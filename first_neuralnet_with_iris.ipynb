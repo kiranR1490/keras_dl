{
 "cells": [
  {
   "cell_type": "markdown",
   "metadata": {},
   "source": [
    "# First neural network\n"
   ]
  },
  {
   "cell_type": "code",
   "execution_count": 80,
   "metadata": {},
   "outputs": [],
   "source": [
    "import numpy as np\n",
    "import pandas as pd\n",
    "import matplotlib.pyplot as plt\n"
   ]
  },
  {
   "cell_type": "code",
   "execution_count": 81,
   "metadata": {},
   "outputs": [],
   "source": [
    "Data = pd.read_csv('iris.csv')"
   ]
  },
  {
   "cell_type": "code",
   "execution_count": 82,
   "metadata": {},
   "outputs": [
    {
     "data": {
      "text/html": [
       "<div>\n",
       "<style scoped>\n",
       "    .dataframe tbody tr th:only-of-type {\n",
       "        vertical-align: middle;\n",
       "    }\n",
       "\n",
       "    .dataframe tbody tr th {\n",
       "        vertical-align: top;\n",
       "    }\n",
       "\n",
       "    .dataframe thead th {\n",
       "        text-align: right;\n",
       "    }\n",
       "</style>\n",
       "<table border=\"1\" class=\"dataframe\">\n",
       "  <thead>\n",
       "    <tr style=\"text-align: right;\">\n",
       "      <th></th>\n",
       "      <th>Id</th>\n",
       "      <th>SepalLengthCm</th>\n",
       "      <th>SepalWidthCm</th>\n",
       "      <th>PetalLengthCm</th>\n",
       "      <th>PetalWidthCm</th>\n",
       "      <th>Species</th>\n",
       "    </tr>\n",
       "  </thead>\n",
       "  <tbody>\n",
       "    <tr>\n",
       "      <th>0</th>\n",
       "      <td>1</td>\n",
       "      <td>5.1</td>\n",
       "      <td>3.5</td>\n",
       "      <td>1.4</td>\n",
       "      <td>0.2</td>\n",
       "      <td>Iris-setosa</td>\n",
       "    </tr>\n",
       "    <tr>\n",
       "      <th>1</th>\n",
       "      <td>2</td>\n",
       "      <td>4.9</td>\n",
       "      <td>3.0</td>\n",
       "      <td>1.4</td>\n",
       "      <td>0.2</td>\n",
       "      <td>Iris-setosa</td>\n",
       "    </tr>\n",
       "    <tr>\n",
       "      <th>2</th>\n",
       "      <td>3</td>\n",
       "      <td>4.7</td>\n",
       "      <td>3.2</td>\n",
       "      <td>1.3</td>\n",
       "      <td>0.2</td>\n",
       "      <td>Iris-setosa</td>\n",
       "    </tr>\n",
       "    <tr>\n",
       "      <th>3</th>\n",
       "      <td>4</td>\n",
       "      <td>4.6</td>\n",
       "      <td>3.1</td>\n",
       "      <td>1.5</td>\n",
       "      <td>0.2</td>\n",
       "      <td>Iris-setosa</td>\n",
       "    </tr>\n",
       "    <tr>\n",
       "      <th>4</th>\n",
       "      <td>5</td>\n",
       "      <td>5.0</td>\n",
       "      <td>3.6</td>\n",
       "      <td>1.4</td>\n",
       "      <td>0.2</td>\n",
       "      <td>Iris-setosa</td>\n",
       "    </tr>\n",
       "  </tbody>\n",
       "</table>\n",
       "</div>"
      ],
      "text/plain": [
       "   Id  SepalLengthCm  SepalWidthCm  PetalLengthCm  PetalWidthCm      Species\n",
       "0   1            5.1           3.5            1.4           0.2  Iris-setosa\n",
       "1   2            4.9           3.0            1.4           0.2  Iris-setosa\n",
       "2   3            4.7           3.2            1.3           0.2  Iris-setosa\n",
       "3   4            4.6           3.1            1.5           0.2  Iris-setosa\n",
       "4   5            5.0           3.6            1.4           0.2  Iris-setosa"
      ]
     },
     "execution_count": 82,
     "metadata": {},
     "output_type": "execute_result"
    }
   ],
   "source": [
    "Data.head()"
   ]
  },
  {
   "cell_type": "code",
   "execution_count": 83,
   "metadata": {},
   "outputs": [
    {
     "data": {
      "image/png": "[encoded data removed]",
      "text/plain": [
       "<Figure size 432x288 with 1 Axes>"
      ]
     },
     "metadata": {
      "needs_background": "light"
     },
     "output_type": "display_data"
    }
   ],
   "source": [
    "SepalLength = Data['SepalLengthCm']\n",
    "SepalWidth = Data['SepalWidthCm']\n",
    "\n",
    "plt.scatter(SepalLength,SepalWidth)\n",
    "plt.show()"
   ]
  },
  {
   "cell_type": "code",
   "execution_count": 84,
   "metadata": {},
   "outputs": [
    {
     "data": {
      "text/plain": [
       "numpy.ndarray"
      ]
     },
     "execution_count": 84,
     "metadata": {},
     "output_type": "execute_result"
    }
   ],
   "source": [
    "X_data = Data[['SepalLengthCm','SepalWidthCm','PetalLengthCm','PetalWidthCm']]\n",
    "X_data = np.array(X_data)\n",
    "type(X_data)"
   ]
  },
  {
   "cell_type": "code",
   "execution_count": 85,
   "metadata": {},
   "outputs": [],
   "source": [
    "y_data = Data[['Species']]\n",
    "y_data = np.array(y_data)"
   ]
  },
  {
   "cell_type": "code",
   "execution_count": 86,
   "metadata": {},
   "outputs": [
    {
     "name": "stderr",
     "output_type": "stream",
     "text": [
      "/home/vconnect6/anaconda3/lib/python3.7/site-packages/sklearn/preprocessing/label.py:235: DataConversionWarning: A column-vector y was passed when a 1d array was expected. Please change the shape of y to (n_samples, ), for example using ravel().\n",
      "  y = column_or_1d(y, warn=True)\n",
      "/home/vconnect6/anaconda3/lib/python3.7/site-packages/sklearn/preprocessing/_encoders.py:371: FutureWarning: The handling of integer data will change in version 0.22. Currently, the categories are determined based on the range [0, max(values)], while in the future they will be determined based on the unique values.\n",
      "If you want the future behaviour and silence this warning, you can specify \"categories='auto'\".\n",
      "In case you used a LabelEncoder before this OneHotEncoder to convert the categories to integers, then you can now use the OneHotEncoder directly.\n",
      "  warnings.warn(msg, FutureWarning)\n"
     ]
    }
   ],
   "source": [
    "from sklearn.preprocessing import LabelEncoder\n",
    "labelencoder = LabelEncoder()\n",
    "y_data = labelencoder.fit_transform(y_data)\n",
    "from sklearn.preprocessing import OneHotEncoder\n",
    "encoder = OneHotEncoder()\n",
    "y_data = y_data.reshape(len(y_data), 1)\n",
    "y_data = encoder.fit_transform(y_data)"
   ]
  },
  {
   "cell_type": "code",
   "execution_count": 87,
   "metadata": {},
   "outputs": [],
   "source": [
    "from sklearn.model_selection import train_test_split"
   ]
  },
  {
   "cell_type": "code",
   "execution_count": 88,
   "metadata": {},
   "outputs": [],
   "source": [
    "X_train,X_test,y_train,y_test = train_test_split(X_data,y_data,test_size = 0.20)\n"
   ]
  },
  {
   "cell_type": "code",
   "execution_count": 89,
   "metadata": {},
   "outputs": [
    {
     "data": {
      "text/plain": [
       "(120, 4)"
      ]
     },
     "execution_count": 89,
     "metadata": {},
     "output_type": "execute_result"
    }
   ],
   "source": [
    "np.shape(X_train)\n"
   ]
  },
  {
   "cell_type": "code",
   "execution_count": 110,
   "metadata": {},
   "outputs": [
    {
     "name": "stdout",
     "output_type": "stream",
     "text": [
      "  (0, 1)\t1.0\n",
      "  (1, 0)\t1.0\n",
      "  (2, 2)\t1.0\n",
      "  (3, 1)\t1.0\n",
      "  (4, 2)\t1.0\n",
      "  (5, 1)\t1.0\n",
      "  (6, 1)\t1.0\n",
      "  (7, 2)\t1.0\n",
      "  (8, 2)\t1.0\n",
      "  (9, 0)\t1.0\n",
      "  (10, 0)\t1.0\n",
      "  (11, 1)\t1.0\n",
      "  (12, 1)\t1.0\n",
      "  (13, 2)\t1.0\n",
      "  (14, 0)\t1.0\n",
      "  (15, 2)\t1.0\n",
      "  (16, 0)\t1.0\n",
      "  (17, 1)\t1.0\n",
      "  (18, 2)\t1.0\n",
      "  (19, 2)\t1.0\n",
      "  (20, 1)\t1.0\n",
      "  (21, 0)\t1.0\n",
      "  (22, 2)\t1.0\n",
      "  (23, 0)\t1.0\n",
      "  (24, 2)\t1.0\n",
      "  :\t:\n",
      "  (95, 0)\t1.0\n",
      "  (96, 2)\t1.0\n",
      "  (97, 2)\t1.0\n",
      "  (98, 1)\t1.0\n",
      "  (99, 1)\t1.0\n",
      "  (100, 2)\t1.0\n",
      "  (101, 2)\t1.0\n",
      "  (102, 0)\t1.0\n",
      "  (103, 2)\t1.0\n",
      "  (104, 2)\t1.0\n",
      "  (105, 1)\t1.0\n",
      "  (106, 0)\t1.0\n",
      "  (107, 2)\t1.0\n",
      "  (108, 2)\t1.0\n",
      "  (109, 0)\t1.0\n",
      "  (110, 1)\t1.0\n",
      "  (111, 2)\t1.0\n",
      "  (112, 1)\t1.0\n",
      "  (113, 1)\t1.0\n",
      "  (114, 0)\t1.0\n",
      "  (115, 2)\t1.0\n",
      "  (116, 0)\t1.0\n",
      "  (117, 2)\t1.0\n",
      "  (118, 0)\t1.0\n",
      "  (119, 1)\t1.0\n"
     ]
    }
   ],
   "source": [
    "\n",
    "np.shape(y_train)"
   ]
  },
  {
   "cell_type": "markdown",
   "metadata": {},
   "source": [
    "# feature Scaling"
   ]
  },
  {
   "cell_type": "code",
   "execution_count": 91,
   "metadata": {},
   "outputs": [],
   "source": [
    "from sklearn.preprocessing import StandardScaler"
   ]
  },
  {
   "cell_type": "code",
   "execution_count": 92,
   "metadata": {},
   "outputs": [],
   "source": [
    "scx = StandardScaler()\n",
    "X_train = scx.fit_transform(X_train)\n",
    "X_test = scx.transform(X_test)"
   ]
  },
  {
   "cell_type": "code",
   "execution_count": 140,
   "metadata": {},
   "outputs": [],
   "source": [
    "import keras\n",
    "from keras.models import Sequential\n",
    "from keras.layers import Dense"
   ]
  },
  {
   "cell_type": "code",
   "execution_count": 141,
   "metadata": {},
   "outputs": [],
   "source": [
    "classifier = Sequential()"
   ]
  },
  {
   "cell_type": "markdown",
   "metadata": {},
   "source": [
    "# Adding the input layer and first hidden layer\n"
   ]
  },
  {
   "cell_type": "code",
   "execution_count": 148,
   "metadata": {},
   "outputs": [],
   "source": [
    "classifier.add(Dense(units = 5,kernel_initializer = 'uniform',activation = 'relu',input_dim = 4))\n"
   ]
  },
  {
   "cell_type": "code",
   "execution_count": null,
   "metadata": {},
   "outputs": [],
   "source": [
    "classifier.add(Dense(units = 5,kernel_initializer = 'uniform',activation = 'relu'))"
   ]
  },
  {
   "cell_type": "code",
   "execution_count": 149,
   "metadata": {},
   "outputs": [],
   "source": [
    "classifier.add(Dense(units = 3,kernel_initializer = 'uniform',activation = 'softmax'))"
   ]
  },
  {
   "cell_type": "code",
   "execution_count": 150,
   "metadata": {},
   "outputs": [],
   "source": [
    "classifier.compile(loss='categorical_crossentropy', optimizer='adam', metrics=['accuracy'])"
   ]
  },
  {
   "cell_type": "code",
   "execution_count": 152,
   "metadata": {},
   "outputs": [
    {
     "name": "stdout",
     "output_type": "stream",
     "text": [
      "Epoch 1/100\n",
      "120/120 [==============================] - 0s 236us/step - loss: 0.9697 - acc: 0.6750\n",
      "Epoch 2/100\n",
      "120/120 [==============================] - 0s 321us/step - loss: 0.9545 - acc: 0.6750\n",
      "Epoch 3/100\n",
      "120/120 [==============================] - 0s 270us/step - loss: 0.9390 - acc: 0.6750\n",
      "Epoch 4/100\n",
      "120/120 [==============================] - 0s 297us/step - loss: 0.9230 - acc: 0.6750\n",
      "Epoch 5/100\n",
      "120/120 [==============================] - 0s 281us/step - loss: 0.9065 - acc: 0.6750\n",
      "Epoch 6/100\n",
      "120/120 [==============================] - 0s 277us/step - loss: 0.8906 - acc: 0.6750\n",
      "Epoch 7/100\n",
      "120/120 [==============================] - 0s 262us/step - loss: 0.8737 - acc: 0.6750\n",
      "Epoch 8/100\n",
      "120/120 [==============================] - 0s 267us/step - loss: 0.8575 - acc: 0.6750\n",
      "Epoch 9/100\n",
      "120/120 [==============================] - 0s 281us/step - loss: 0.8405 - acc: 0.6750\n",
      "Epoch 10/100\n",
      "120/120 [==============================] - 0s 323us/step - loss: 0.8245 - acc: 0.6750\n",
      "Epoch 11/100\n",
      "120/120 [==============================] - 0s 360us/step - loss: 0.8090 - acc: 0.6750\n",
      "Epoch 12/100\n",
      "120/120 [==============================] - 0s 298us/step - loss: 0.7933 - acc: 0.6750\n",
      "Epoch 13/100\n",
      "120/120 [==============================] - 0s 296us/step - loss: 0.7781 - acc: 0.6750\n",
      "Epoch 14/100\n",
      "120/120 [==============================] - 0s 283us/step - loss: 0.7633 - acc: 0.6750\n",
      "Epoch 15/100\n",
      "120/120 [==============================] - 0s 268us/step - loss: 0.7489 - acc: 0.6750\n",
      "Epoch 16/100\n",
      "120/120 [==============================] - 0s 337us/step - loss: 0.7353 - acc: 0.6750\n",
      "Epoch 17/100\n",
      "120/120 [==============================] - 0s 371us/step - loss: 0.7217 - acc: 0.6750\n",
      "Epoch 18/100\n",
      "120/120 [==============================] - 0s 270us/step - loss: 0.7090 - acc: 0.6750\n",
      "Epoch 19/100\n",
      "120/120 [==============================] - 0s 314us/step - loss: 0.6971 - acc: 0.6750\n",
      "Epoch 20/100\n",
      "120/120 [==============================] - 0s 298us/step - loss: 0.6850 - acc: 0.6750\n",
      "Epoch 21/100\n",
      "120/120 [==============================] - 0s 360us/step - loss: 0.6740 - acc: 0.6750\n",
      "Epoch 22/100\n",
      "120/120 [==============================] - 0s 268us/step - loss: 0.6640 - acc: 0.6750\n",
      "Epoch 23/100\n",
      "120/120 [==============================] - 0s 297us/step - loss: 0.6533 - acc: 0.6750\n",
      "Epoch 24/100\n",
      "120/120 [==============================] - 0s 339us/step - loss: 0.6440 - acc: 0.6750\n",
      "Epoch 25/100\n",
      "120/120 [==============================] - 0s 326us/step - loss: 0.6350 - acc: 0.6750\n",
      "Epoch 26/100\n",
      "120/120 [==============================] - 0s 285us/step - loss: 0.6267 - acc: 0.6750\n",
      "Epoch 27/100\n",
      "120/120 [==============================] - 0s 317us/step - loss: 0.6185 - acc: 0.6750\n",
      "Epoch 28/100\n",
      "120/120 [==============================] - 0s 303us/step - loss: 0.6111 - acc: 0.6750\n",
      "Epoch 29/100\n",
      "120/120 [==============================] - 0s 359us/step - loss: 0.6039 - acc: 0.6750\n",
      "Epoch 30/100\n",
      "120/120 [==============================] - 0s 304us/step - loss: 0.5969 - acc: 0.6750\n",
      "Epoch 31/100\n",
      "120/120 [==============================] - 0s 356us/step - loss: 0.5906 - acc: 0.6750\n",
      "Epoch 32/100\n",
      "120/120 [==============================] - 0s 394us/step - loss: 0.5846 - acc: 0.6750\n",
      "Epoch 33/100\n",
      "120/120 [==============================] - 0s 308us/step - loss: 0.5794 - acc: 0.6750\n",
      "Epoch 34/100\n",
      "120/120 [==============================] - 0s 387us/step - loss: 0.5742 - acc: 0.6750\n",
      "Epoch 35/100\n",
      "120/120 [==============================] - 0s 352us/step - loss: 0.5689 - acc: 0.6750\n",
      "Epoch 36/100\n",
      "120/120 [==============================] - 0s 286us/step - loss: 0.5641 - acc: 0.6750\n",
      "Epoch 37/100\n",
      "120/120 [==============================] - 0s 320us/step - loss: 0.5596 - acc: 0.6750\n",
      "Epoch 38/100\n",
      "120/120 [==============================] - 0s 331us/step - loss: 0.5555 - acc: 0.6750\n",
      "Epoch 39/100\n",
      "120/120 [==============================] - 0s 278us/step - loss: 0.5516 - acc: 0.6750\n",
      "Epoch 40/100\n",
      "120/120 [==============================] - 0s 339us/step - loss: 0.5482 - acc: 0.6750\n",
      "Epoch 41/100\n",
      "120/120 [==============================] - 0s 356us/step - loss: 0.5448 - acc: 0.6750\n",
      "Epoch 42/100\n",
      "120/120 [==============================] - 0s 314us/step - loss: 0.5411 - acc: 0.6750\n",
      "Epoch 43/100\n",
      "120/120 [==============================] - 0s 382us/step - loss: 0.5382 - acc: 0.6750\n",
      "Epoch 44/100\n",
      "120/120 [==============================] - 0s 307us/step - loss: 0.5351 - acc: 0.6750\n",
      "Epoch 45/100\n",
      "120/120 [==============================] - 0s 296us/step - loss: 0.5324 - acc: 0.6750\n",
      "Epoch 46/100\n",
      "120/120 [==============================] - 0s 329us/step - loss: 0.5297 - acc: 0.6750\n",
      "Epoch 47/100\n",
      "120/120 [==============================] - 0s 288us/step - loss: 0.5279 - acc: 0.6750\n",
      "Epoch 48/100\n",
      "120/120 [==============================] - 0s 334us/step - loss: 0.5250 - acc: 0.6750\n",
      "Epoch 49/100\n",
      "120/120 [==============================] - 0s 315us/step - loss: 0.5231 - acc: 0.6750\n",
      "Epoch 50/100\n",
      "120/120 [==============================] - 0s 365us/step - loss: 0.5210 - acc: 0.6750\n",
      "Epoch 51/100\n",
      "120/120 [==============================] - 0s 317us/step - loss: 0.5189 - acc: 0.6750\n",
      "Epoch 52/100\n",
      "120/120 [==============================] - 0s 267us/step - loss: 0.5167 - acc: 0.6750\n",
      "Epoch 53/100\n",
      "120/120 [==============================] - 0s 344us/step - loss: 0.5149 - acc: 0.6750\n",
      "Epoch 54/100\n",
      "120/120 [==============================] - 0s 371us/step - loss: 0.5132 - acc: 0.6750\n",
      "Epoch 55/100\n",
      "120/120 [==============================] - 0s 382us/step - loss: 0.5116 - acc: 0.6750\n",
      "Epoch 56/100\n",
      "120/120 [==============================] - 0s 283us/step - loss: 0.5100 - acc: 0.6750\n",
      "Epoch 57/100\n",
      "120/120 [==============================] - 0s 282us/step - loss: 0.5087 - acc: 0.6750\n",
      "Epoch 58/100\n",
      "120/120 [==============================] - 0s 275us/step - loss: 0.5071 - acc: 0.6750\n",
      "Epoch 59/100\n",
      "120/120 [==============================] - 0s 249us/step - loss: 0.5061 - acc: 0.6750\n",
      "Epoch 60/100\n",
      "120/120 [==============================] - 0s 282us/step - loss: 0.5046 - acc: 0.6750\n",
      "Epoch 61/100\n",
      "120/120 [==============================] - 0s 227us/step - loss: 0.5033 - acc: 0.6750\n",
      "Epoch 62/100\n",
      "120/120 [==============================] - 0s 297us/step - loss: 0.5022 - acc: 0.6750\n",
      "Epoch 63/100\n",
      "120/120 [==============================] - 0s 218us/step - loss: 0.5014 - acc: 0.6750\n",
      "Epoch 64/100\n",
      "120/120 [==============================] - 0s 319us/step - loss: 0.5000 - acc: 0.6750\n",
      "Epoch 65/100\n",
      "120/120 [==============================] - 0s 211us/step - loss: 0.4991 - acc: 0.6750\n",
      "Epoch 66/100\n",
      "120/120 [==============================] - 0s 254us/step - loss: 0.4981 - acc: 0.6750\n",
      "Epoch 67/100\n",
      "120/120 [==============================] - 0s 290us/step - loss: 0.4973 - acc: 0.6750\n",
      "Epoch 68/100\n",
      "120/120 [==============================] - 0s 296us/step - loss: 0.4963 - acc: 0.6750\n",
      "Epoch 69/100\n",
      "120/120 [==============================] - 0s 270us/step - loss: 0.4956 - acc: 0.6750\n",
      "Epoch 70/100\n",
      "120/120 [==============================] - 0s 264us/step - loss: 0.4946 - acc: 0.6750\n",
      "Epoch 71/100\n",
      "120/120 [==============================] - 0s 303us/step - loss: 0.4939 - acc: 0.6750\n",
      "Epoch 72/100\n",
      "120/120 [==============================] - 0s 256us/step - loss: 0.4932 - acc: 0.6750\n",
      "Epoch 73/100\n",
      "120/120 [==============================] - 0s 236us/step - loss: 0.4924 - acc: 0.6750\n",
      "Epoch 74/100\n",
      "120/120 [==============================] - 0s 325us/step - loss: 0.4917 - acc: 0.6750\n",
      "Epoch 75/100\n",
      "120/120 [==============================] - 0s 336us/step - loss: 0.4911 - acc: 0.6750\n",
      "Epoch 76/100\n",
      "120/120 [==============================] - 0s 304us/step - loss: 0.4905 - acc: 0.6750\n",
      "Epoch 77/100\n",
      "120/120 [==============================] - 0s 324us/step - loss: 0.4898 - acc: 0.6750\n",
      "Epoch 78/100\n",
      "120/120 [==============================] - 0s 320us/step - loss: 0.4894 - acc: 0.6750\n",
      "Epoch 79/100\n",
      "120/120 [==============================] - 0s 287us/step - loss: 0.4887 - acc: 0.6750\n",
      "Epoch 80/100\n",
      "120/120 [==============================] - 0s 353us/step - loss: 0.4881 - acc: 0.6750\n",
      "Epoch 81/100\n",
      "120/120 [==============================] - 0s 340us/step - loss: 0.4879 - acc: 0.6750\n",
      "Epoch 82/100\n",
      "120/120 [==============================] - 0s 361us/step - loss: 0.4870 - acc: 0.6750\n",
      "Epoch 83/100\n"
     ]
    },
    {
     "name": "stdout",
     "output_type": "stream",
     "text": [
      "120/120 [==============================] - 0s 364us/step - loss: 0.4867 - acc: 0.6750\n",
      "Epoch 84/100\n",
      "120/120 [==============================] - 0s 363us/step - loss: 0.4862 - acc: 0.6750\n",
      "Epoch 85/100\n",
      "120/120 [==============================] - 0s 236us/step - loss: 0.4856 - acc: 0.6750\n",
      "Epoch 86/100\n",
      "120/120 [==============================] - 0s 251us/step - loss: 0.4852 - acc: 0.6750\n",
      "Epoch 87/100\n",
      "120/120 [==============================] - 0s 291us/step - loss: 0.4850 - acc: 0.6750\n",
      "Epoch 88/100\n",
      "120/120 [==============================] - 0s 268us/step - loss: 0.4849 - acc: 0.6750\n",
      "Epoch 89/100\n",
      "120/120 [==============================] - 0s 263us/step - loss: 0.4842 - acc: 0.6750\n",
      "Epoch 90/100\n",
      "120/120 [==============================] - 0s 270us/step - loss: 0.4837 - acc: 0.6750\n",
      "Epoch 91/100\n",
      "120/120 [==============================] - 0s 281us/step - loss: 0.4845 - acc: 0.6750\n",
      "Epoch 92/100\n",
      "120/120 [==============================] - 0s 273us/step - loss: 0.4829 - acc: 0.6750\n",
      "Epoch 93/100\n",
      "120/120 [==============================] - 0s 278us/step - loss: 0.4837 - acc: 0.6750\n",
      "Epoch 94/100\n",
      "120/120 [==============================] - 0s 248us/step - loss: 0.4833 - acc: 0.6750\n",
      "Epoch 95/100\n",
      "120/120 [==============================] - 0s 238us/step - loss: 0.4819 - acc: 0.6750\n",
      "Epoch 96/100\n",
      "120/120 [==============================] - 0s 266us/step - loss: 0.4817 - acc: 0.6750\n",
      "Epoch 97/100\n",
      "120/120 [==============================] - 0s 282us/step - loss: 0.4812 - acc: 0.6750\n",
      "Epoch 98/100\n",
      "120/120 [==============================] - 0s 247us/step - loss: 0.4809 - acc: 0.6750\n",
      "Epoch 99/100\n",
      "120/120 [==============================] - 0s 293us/step - loss: 0.4806 - acc: 0.6750\n",
      "Epoch 100/100\n",
      "120/120 [==============================] - 0s 261us/step - loss: 0.4804 - acc: 0.6750\n"
     ]
    },
    {
     "data": {
      "text/plain": [
       "<keras.callbacks.History at 0x7fab9c197668>"
      ]
     },
     "execution_count": 152,
     "metadata": {},
     "output_type": "execute_result"
    }
   ],
   "source": [
    "classifier.fit(X_train,y_train,batch_size=10,epochs = 100)"
   ]
  },
  {
   "cell_type": "code",
   "execution_count": 153,
   "metadata": {},
   "outputs": [],
   "source": [
    "y_pred = classifier.predict(X_test)\n",
    "y_pred = (y_pred>0.5)"
   ]
  },
  {
   "cell_type": "code",
   "execution_count": 154,
   "metadata": {},
   "outputs": [
    {
     "name": "stdout",
     "output_type": "stream",
     "text": [
      "[[ True False False]\n",
      " [False False  True]\n",
      " [False False  True]\n",
      " [False False  True]\n",
      " [False False  True]\n",
      " [False False  True]\n",
      " [False False  True]\n",
      " [False False  True]\n",
      " [ True False False]\n",
      " [False False  True]\n",
      " [False False  True]\n",
      " [False False  True]\n",
      " [ True False False]\n",
      " [ True False False]\n",
      " [False False  True]\n",
      " [False False  True]\n",
      " [False False  True]\n",
      " [ True False False]\n",
      " [False False  True]\n",
      " [False False  True]\n",
      " [False False  True]\n",
      " [ True False False]\n",
      " [ True False False]\n",
      " [False False  True]\n",
      " [ True False False]\n",
      " [ True False False]\n",
      " [ True False False]\n",
      " [False False  True]\n",
      " [ True False False]\n",
      " [False False  True]]   (0, 0)\t1.0\n",
      "  (1, 2)\t1.0\n",
      "  (2, 2)\t1.0\n",
      "  (3, 2)\t1.0\n",
      "  (4, 2)\t1.0\n",
      "  (5, 2)\t1.0\n",
      "  (6, 1)\t1.0\n",
      "  (7, 1)\t1.0\n",
      "  (8, 0)\t1.0\n",
      "  (9, 1)\t1.0\n",
      "  (10, 2)\t1.0\n",
      "  (11, 1)\t1.0\n",
      "  (12, 0)\t1.0\n",
      "  (13, 0)\t1.0\n",
      "  (14, 1)\t1.0\n",
      "  (15, 1)\t1.0\n",
      "  (16, 1)\t1.0\n",
      "  (17, 0)\t1.0\n",
      "  (18, 1)\t1.0\n",
      "  (19, 2)\t1.0\n",
      "  (20, 1)\t1.0\n",
      "  (21, 0)\t1.0\n",
      "  (22, 0)\t1.0\n",
      "  (23, 1)\t1.0\n",
      "  (24, 0)\t1.0\n",
      "  (25, 0)\t1.0\n",
      "  (26, 0)\t1.0\n",
      "  (27, 2)\t1.0\n",
      "  (28, 0)\t1.0\n",
      "  (29, 1)\t1.0\n"
     ]
    }
   ],
   "source": [
    "print(y_pred,y_test)"
   ]
  },
  {
   "cell_type": "code",
   "execution_count": null,
   "metadata": {},
   "outputs": [],
   "source": []
  },
  {
   "cell_type": "code",
   "execution_count": null,
   "metadata": {},
   "outputs": [],
   "source": []
  }
 ],
 "metadata": {
  "kernelspec": {
   "display_name": "Python 3",
   "language": "python",
   "name": "python3"
  },
  "language_info": {
   "codemirror_mode": {
    "name": "ipython",
    "version": 3
   },
   "file_extension": ".py",
   "mimetype": "text/x-python",
   "name": "python",
   "nbconvert_exporter": "python",
   "pygments_lexer": "ipython3",
   "version": "3.7.3"
  }
 },
 "nbformat": 4,
 "nbformat_minor": 2
}
